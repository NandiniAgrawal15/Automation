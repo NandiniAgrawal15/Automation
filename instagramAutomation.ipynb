{
 "cells": [
  {
   "cell_type": "code",
   "execution_count": 1,
   "source": [
    "\r\n",
    "#Various Functions from selenium package are imported which are to be used in Automation Instagram.\r\n",
    "from selenium import webdriver\r\n",
    "from selenium.webdriver.support.ui import WebDriverWait\r\n",
    "from selenium.webdriver.support import expected_conditions as ec\r\n",
    "from selenium.webdriver.common.keys import Keys\r\n",
    "from selenium.webdriver.common.by import By\r\n",
    "from time import sleep"
   ],
   "outputs": [],
   "metadata": {}
  },
  {
   "cell_type": "markdown",
   "source": [
    "Liking and saving the posts "
   ],
   "metadata": {}
  },
  {
   "cell_type": "code",
   "execution_count": 5,
   "source": [
    "driver=webdriver.Chrome(\"C:\\Windows\\chromedriver.exe\")\r\n",
    "driver.get(\"https://www.instagram.com/\")\r\n",
    "driver.maximize_window()\r\n",
    "sleep(2)\r\n",
    "#add yout user_name and password \r\n",
    "user_name='user_name'\r\n",
    "password='password'\r\n",
    "\r\n",
    "\r\n",
    "driver.find_element_by_xpath('/html/body/div[1]/section/main/article/div[2]/div[1]/div/form/div/div[1]/div/label').send_keys(user_name)\r\n",
    "driver.find_element_by_xpath('/html/body/div[1]/section/main/article/div[2]/div[1]/div/form/div/div[2]/div/label').send_keys(password)\r\n",
    "driver.find_element_by_xpath('/html/body/div[1]/section/main/article/div[2]/div[1]/div/form/div/div[3]/button').click()\r\n",
    "\r\n",
    "sleep(1)\r\n"
   ],
   "outputs": [],
   "metadata": {}
  },
  {
   "cell_type": "code",
   "execution_count": 6,
   "source": [
    "#used to click the not now Button which appears on Screen After Logging In.\r\n",
    "notNow=driver.find_element_by_xpath(\"/html/body/div[1]/section/main/div/div/div/div\").click()\r\n",
    "\r\n",
    "sleep(1)"
   ],
   "outputs": [],
   "metadata": {}
  },
  {
   "cell_type": "code",
   "execution_count": 7,
   "source": [
    "#used to click the Notification off Button which appears on Screen After Logging In.\r\n",
    "notification_not=driver.find_element_by_xpath(\"/html/body/div[5]/div/div/div/div[3]/button[2]\")\r\n",
    "notification_not.click()"
   ],
   "outputs": [],
   "metadata": {}
  },
  {
   "cell_type": "code",
   "execution_count": null,
   "source": [],
   "outputs": [],
   "metadata": {}
  },
  {
   "cell_type": "markdown",
   "source": [
    "Functions :-\r\n"
   ],
   "metadata": {}
  },
  {
   "cell_type": "code",
   "execution_count": 8,
   "source": [
    "#Used to like first 5 posts ; Can be easily changed \r\n",
    "sleep(1)\r\n",
    "for i in range(1,6):\r\n",
    "    like_the_post=driver.find_element_by_xpath(\"/html/body/div[1]/section/main/section/div/div[2]/div/article[\"+str(i)+\"]/div[3]/section[1]/span[1]\")\r\n",
    "    like_the_post.click()\r\n",
    "    sleep(0.2)\r\n",
    "    save_post=driver.find_element_by_xpath(\"/html/body/div[1]/section/main/section/div/div[2]/div/article[\"+str(i)+\"]/div[3]/section[1]/span[4]/div/div\")\r\n",
    "    save_post.click()\r\n",
    "    WebDriverWait(driver,5)"
   ],
   "outputs": [],
   "metadata": {}
  },
  {
   "cell_type": "markdown",
   "source": [
    "to search some user's profile \r\n"
   ],
   "metadata": {}
  },
  {
   "cell_type": "code",
   "execution_count": 11,
   "source": [
    "#used to search a particular user. \r\n",
    "#include the user_name to be searched in to_search Variable.\r\n",
    "to_search='_i_n.a.n.d.i.n.i_'\r\n",
    "search_user=driver.find_element_by_xpath(\"/html/body/div[1]/section/nav/div[2]/div/div/div[2]\")\r\n",
    "search_user.click()\r\n",
    "sleep(2)\r\n",
    "search1=driver.find_element_by_xpath(\"/html/body/div[1]/section/nav/div[2]/div/div/div[2]/input\").send_keys(to_search)\r\n",
    "sleep(1)\r\n"
   ],
   "outputs": [],
   "metadata": {}
  },
  {
   "cell_type": "code",
   "execution_count": 12,
   "source": [
    "click_to_search=driver.find_element_by_xpath(\"/html/body/div[1]/section/nav/div[2]/div/div/div[2]/div[3]/div/div[2]/div/div[1]/a\")\r\n",
    "click_to_search.click()"
   ],
   "outputs": [],
   "metadata": {}
  },
  {
   "cell_type": "markdown",
   "source": [
    "to send messages (to a particular person)"
   ],
   "metadata": {}
  },
  {
   "cell_type": "code",
   "execution_count": 21,
   "source": [
    "#To send message \r\n",
    "#enter the name of the person targeted in Target_msg Variable\r\n",
    "message_menu=driver.find_element_by_xpath(\"/html/body/div[1]/section/nav/div[2]/div/div/div[3]/div/div[2]/a\")\r\n",
    "message_menu.click()\r\n",
    "\r\n",
    "WebDriverWait(driver,10)\r\n",
    "target_msg='_i_n.a.n.d.i.n.i_'\r\n",
    "send_message=driver.find_element_by_xpath(\"/html/body/div[1]/section/div/div[2]/div/div/div[2]/div/div[3]\")\r\n",
    "send_message.click()\r\n",
    "type_name=driver.find_element_by_xpath(\"/html/body/div[5]/div/div/div[2]/div[1]/div/div[2]/input\").send_keys(target_msg)\r\n",
    "\r\n",
    "WebDriverWait(driver,10)"
   ],
   "outputs": [
    {
     "output_type": "execute_result",
     "data": {
      "text/plain": [
       "<selenium.webdriver.support.wait.WebDriverWait (session=\"ef8561f85a38961f6b499bdc2aacf5fe\")>"
      ]
     },
     "metadata": {},
     "execution_count": 21
    }
   ],
   "metadata": {}
  },
  {
   "cell_type": "code",
   "execution_count": 22,
   "source": [
    "click_to_send=driver.find_element_by_xpath(\"/html/body/div[5]/div/div/div[2]/div[2]/div[1]/div/div[3]/button\")\r\n",
    "click_to_send.click()\r\n",
    "send_button=driver.find_element_by_xpath(\"/html/body/div[5]/div/div/div[1]/div/div[2]/div/button\")\r\n",
    "send_button.click()"
   ],
   "outputs": [],
   "metadata": {}
  },
  {
   "cell_type": "code",
   "execution_count": 23,
   "source": [
    "#include the message to be sent to the msg variable.\r\n",
    "sleep(1)\r\n",
    "\r\n",
    "msg=\"Hi!,Nandini\"\r\n",
    "message_box=driver.find_element_by_xpath(\"/html/body/div[1]/section/div/div[2]/div/div/div[2]/div[2]/div/div[2]/div/div/div[2]\").click()\r\n",
    "\r\n",
    "sleep(1)\r\n",
    "\r\n",
    "text_box=driver.find_element_by_xpath(\"/html/body/div[1]/section/div/div[2]/div/div/div[2]/div[2]/div/div[2]/div/div/div[2]/textarea\").send_keys(msg)\r\n",
    "\r\n",
    "sleep(1)\r\n",
    "message_send_button=driver.find_element_by_xpath(\"/html/body/div[1]/section/div/div[2]/div/div/div[2]/div[2]/div/div[2]/div/div/div[3]/button\")\r\n",
    "message_send_button.click()"
   ],
   "outputs": [],
   "metadata": {}
  }
 ],
 "metadata": {
  "orig_nbformat": 4,
  "language_info": {
   "name": "python",
   "version": "3.9.5",
   "mimetype": "text/x-python",
   "codemirror_mode": {
    "name": "ipython",
    "version": 3
   },
   "pygments_lexer": "ipython3",
   "nbconvert_exporter": "python",
   "file_extension": ".py"
  },
  "kernelspec": {
   "name": "python3",
   "display_name": "Python 3.9.5 64-bit"
  },
  "interpreter": {
   "hash": "ac59ebe37160ed0dfa835113d9b8498d9f09ceb179beaac4002f036b9467c963"
  }
 },
 "nbformat": 4,
 "nbformat_minor": 2
}